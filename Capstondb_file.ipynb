{
 "cells": [
  {
   "cell_type": "code",
   "execution_count": 1,
   "id": "40203dd9",
   "metadata": {},
   "outputs": [],
   "source": [
    "import mysql.connector as connector"
   ]
  },
  {
   "cell_type": "code",
   "execution_count": 2,
   "id": "a9790b5e",
   "metadata": {},
   "outputs": [],
   "source": [
    "connector = connector.connect(\n",
    "    user = '******',\n",
    "    password = '********',\n",
    "    db = 'littlelemondb'\n",
    ")"
   ]
  },
  {
   "cell_type": "code",
   "execution_count": 6,
   "id": "f1742ad6",
   "metadata": {},
   "outputs": [
    {
     "name": "stdout",
     "output_type": "stream",
     "text": [
      "('bookings',)\n",
      "('customerinfo',)\n",
      "('customers',)\n",
      "('employees',)\n",
      "('items',)\n",
      "('menu',)\n",
      "('orderdelivery',)\n",
      "('orders',)\n",
      "('orderview',)\n"
     ]
    }
   ],
   "source": [
    "cursor = connector.cursor()\n",
    "show_tables_query = \"SHOW tables\" \n",
    "cursor.execute(show_tables_query)\n",
    "result = cursor.fetchall()\n",
    "for row in result:\n",
    "    print(row)\n"
   ]
  },
  {
   "cell_type": "code",
   "execution_count": 7,
   "id": "d79eee5d",
   "metadata": {},
   "outputs": [],
   "source": [
    "Task_3_query = \"\"\"select c.CustomerID,CONCAT(FirstName,\" \",LastName) as FullName,o.OrderID,O.BillAmount,m.MenuName,m.Cuisine\n",
    "    from orders o inner join menu m on o.MenuID = m.MenuID\n",
    "inner join Bookings b on o.BookingID = b.BookingID\n",
    "inner join Customers c on b.CustomerID = c.CustomerID \n",
    "where  o.BillAmount > 60\"\"\""
   ]
  },
  {
   "cell_type": "code",
   "execution_count": 8,
   "id": "35ea26f6",
   "metadata": {},
   "outputs": [],
   "source": [
    "cursor.execute(Task_3_query)"
   ]
  },
  {
   "cell_type": "code",
   "execution_count": null,
   "id": "79befffd",
   "metadata": {},
   "outputs": [],
   "source": [
    "column_name =cursor.column_names()\n",
    "print(column_name)\n",
    "resultof3 = cursor.fetchall()\n",
    "for data in resultof3:\n",
    "    print(data)"
   ]
  },
  {
   "cell_type": "raw",
   "id": "271097ac",
   "metadata": {},
   "source": []
  }
 ],
 "metadata": {
  "kernelspec": {
   "display_name": "Python 3 (ipykernel)",
   "language": "python",
   "name": "python3"
  },
  "language_info": {
   "codemirror_mode": {
    "name": "ipython",
    "version": 3
   },
   "file_extension": ".py",
   "mimetype": "text/x-python",
   "name": "python",
   "nbconvert_exporter": "python",
   "pygments_lexer": "ipython3",
   "version": "3.11.4"
  }
 },
 "nbformat": 4,
 "nbformat_minor": 5
}
